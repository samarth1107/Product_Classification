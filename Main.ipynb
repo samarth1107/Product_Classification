{
 "cells": [
  {
   "cell_type": "markdown",
   "metadata": {},
   "source": [
    "# Header Files"
   ]
  },
  {
   "cell_type": "code",
   "execution_count": 10,
   "metadata": {},
   "outputs": [
    {
     "name": "stdout",
     "output_type": "stream",
     "text": [
      "showing info https://raw.githubusercontent.com/nltk/nltk_data/gh-pages/index.xml\n"
     ]
    },
    {
     "data": {
      "text/plain": [
       "True"
      ]
     },
     "execution_count": 10,
     "metadata": {},
     "output_type": "execute_result"
    }
   ],
   "source": [
    "# download files for nltk package\n",
    "\n",
    "nltk.download()"
   ]
  },
  {
   "cell_type": "code",
   "execution_count": 1,
   "metadata": {},
   "outputs": [],
   "source": [
    "# Header files\n",
    "\n",
    "import pandas as pd\n",
    "import numpy as np\n",
    "import seaborn as sns\n",
    "import matplotlib.pyplot as plt\n",
    "\n",
    "import nltk\n",
    "import string\n",
    "import re\n",
    "import joblib\n",
    "from nltk.tokenize import RegexpTokenizer\n",
    "from nltk.corpus import stopwords \n",
    "from nltk.stem import WordNetLemmatizer\n",
    "\n",
    "from sklearn.model_selection import train_test_split, KFold, cross_validate, GridSearchCV\n",
    "from sklearn.feature_extraction.text import TfidfVectorizer\n",
    "from sklearn.pipeline import Pipeline\n",
    "from sklearn.feature_selection import SelectKBest, chi2\n",
    "\n",
    "\n",
    "from sklearn import metrics\n",
    "from sklearn.linear_model import LogisticRegression\n",
    "from sklearn.neighbors import KNeighborsClassifier\n",
    "from sklearn.svm import LinearSVC,SVC\n",
    "from sklearn.ensemble import RandomForestClassifier\n",
    "from sklearn.naive_bayes import GaussianNB\n",
    "from sklearn.tree import DecisionTreeClassifier\n",
    "from sklearn.metrics import classification_report, confusion_matrix, matthews_corrcoef, make_scorer\n",
    "from xgboost import XGBClassifier"
   ]
  },
  {
   "cell_type": "markdown",
   "metadata": {},
   "source": [
    "# Data Import"
   ]
  },
  {
   "cell_type": "code",
   "execution_count": 2,
   "metadata": {},
   "outputs": [],
   "source": [
    "# import flipkart data into pandas dataframe\n",
    "Main_df = pd.read_csv('Main_data.csv')"
   ]
  },
  {
   "cell_type": "code",
   "execution_count": 3,
   "metadata": {},
   "outputs": [
    {
     "data": {
      "text/plain": [
       "uniq_id                     object\n",
       "crawl_timestamp             object\n",
       "product_url                 object\n",
       "product_name                object\n",
       "product_category_tree       object\n",
       "pid                         object\n",
       "retail_price               float64\n",
       "discounted_price           float64\n",
       "image                       object\n",
       "is_FK_Advantage_product       bool\n",
       "description                 object\n",
       "product_rating              object\n",
       "overall_rating              object\n",
       "brand                       object\n",
       "product_specifications      object\n",
       "dtype: object"
      ]
     },
     "execution_count": 3,
     "metadata": {},
     "output_type": "execute_result"
    }
   ],
   "source": [
    "# see types of columns in data\n",
    "Main_df.dtypes"
   ]
  },
  {
   "cell_type": "code",
   "execution_count": 4,
   "metadata": {
    "scrolled": false
   },
   "outputs": [
    {
     "data": {
      "text/html": [
       "<div>\n",
       "<style scoped>\n",
       "    .dataframe tbody tr th:only-of-type {\n",
       "        vertical-align: middle;\n",
       "    }\n",
       "\n",
       "    .dataframe tbody tr th {\n",
       "        vertical-align: top;\n",
       "    }\n",
       "\n",
       "    .dataframe thead th {\n",
       "        text-align: right;\n",
       "    }\n",
       "</style>\n",
       "<table border=\"1\" class=\"dataframe\">\n",
       "  <thead>\n",
       "    <tr style=\"text-align: right;\">\n",
       "      <th></th>\n",
       "      <th>uniq_id</th>\n",
       "      <th>crawl_timestamp</th>\n",
       "      <th>product_url</th>\n",
       "      <th>product_name</th>\n",
       "      <th>product_category_tree</th>\n",
       "      <th>pid</th>\n",
       "      <th>retail_price</th>\n",
       "      <th>discounted_price</th>\n",
       "      <th>image</th>\n",
       "      <th>is_FK_Advantage_product</th>\n",
       "      <th>description</th>\n",
       "      <th>product_rating</th>\n",
       "      <th>overall_rating</th>\n",
       "      <th>brand</th>\n",
       "      <th>product_specifications</th>\n",
       "    </tr>\n",
       "  </thead>\n",
       "  <tbody>\n",
       "    <tr>\n",
       "      <th>0</th>\n",
       "      <td>c2d766ca982eca8304150849735ffef9</td>\n",
       "      <td>2016-03-25 22:59:23 +0000</td>\n",
       "      <td>http://www.flipkart.com/alisha-solid-women-s-c...</td>\n",
       "      <td>Alisha Solid Women's Cycling Shorts</td>\n",
       "      <td>[\"Clothing &gt;&gt; Women's Clothing &gt;&gt; Lingerie, Sl...</td>\n",
       "      <td>SRTEH2FF9KEDEFGF</td>\n",
       "      <td>999.0</td>\n",
       "      <td>379.0</td>\n",
       "      <td>[\"http://img5a.flixcart.com/image/short/u/4/a/...</td>\n",
       "      <td>False</td>\n",
       "      <td>Key Features of Alisha Solid Women's Cycling S...</td>\n",
       "      <td>No rating available</td>\n",
       "      <td>No rating available</td>\n",
       "      <td>Alisha</td>\n",
       "      <td>{\"product_specification\"=&gt;[{\"key\"=&gt;\"Number of ...</td>\n",
       "    </tr>\n",
       "    <tr>\n",
       "      <th>1</th>\n",
       "      <td>7f7036a6d550aaa89d34c77bd39a5e48</td>\n",
       "      <td>2016-03-25 22:59:23 +0000</td>\n",
       "      <td>http://www.flipkart.com/fabhomedecor-fabric-do...</td>\n",
       "      <td>FabHomeDecor Fabric Double Sofa Bed</td>\n",
       "      <td>[\"Furniture &gt;&gt; Living Room Furniture &gt;&gt; Sofa B...</td>\n",
       "      <td>SBEEH3QGU7MFYJFY</td>\n",
       "      <td>32157.0</td>\n",
       "      <td>22646.0</td>\n",
       "      <td>[\"http://img6a.flixcart.com/image/sofa-bed/j/f...</td>\n",
       "      <td>False</td>\n",
       "      <td>FabHomeDecor Fabric Double Sofa Bed (Finish Co...</td>\n",
       "      <td>No rating available</td>\n",
       "      <td>No rating available</td>\n",
       "      <td>FabHomeDecor</td>\n",
       "      <td>{\"product_specification\"=&gt;[{\"key\"=&gt;\"Installati...</td>\n",
       "    </tr>\n",
       "    <tr>\n",
       "      <th>2</th>\n",
       "      <td>f449ec65dcbc041b6ae5e6a32717d01b</td>\n",
       "      <td>2016-03-25 22:59:23 +0000</td>\n",
       "      <td>http://www.flipkart.com/aw-bellies/p/itmeh4grg...</td>\n",
       "      <td>AW Bellies</td>\n",
       "      <td>[\"Footwear &gt;&gt; Women's Footwear &gt;&gt; Ballerinas &gt;...</td>\n",
       "      <td>SHOEH4GRSUBJGZXE</td>\n",
       "      <td>999.0</td>\n",
       "      <td>499.0</td>\n",
       "      <td>[\"http://img5a.flixcart.com/image/shoe/7/z/z/r...</td>\n",
       "      <td>False</td>\n",
       "      <td>Key Features of AW Bellies Sandals Wedges Heel...</td>\n",
       "      <td>No rating available</td>\n",
       "      <td>No rating available</td>\n",
       "      <td>AW</td>\n",
       "      <td>{\"product_specification\"=&gt;[{\"key\"=&gt;\"Ideal For\"...</td>\n",
       "    </tr>\n",
       "    <tr>\n",
       "      <th>3</th>\n",
       "      <td>0973b37acd0c664e3de26e97e5571454</td>\n",
       "      <td>2016-03-25 22:59:23 +0000</td>\n",
       "      <td>http://www.flipkart.com/alisha-solid-women-s-c...</td>\n",
       "      <td>Alisha Solid Women's Cycling Shorts</td>\n",
       "      <td>[\"Clothing &gt;&gt; Women's Clothing &gt;&gt; Lingerie, Sl...</td>\n",
       "      <td>SRTEH2F6HUZMQ6SJ</td>\n",
       "      <td>699.0</td>\n",
       "      <td>267.0</td>\n",
       "      <td>[\"http://img5a.flixcart.com/image/short/6/2/h/...</td>\n",
       "      <td>False</td>\n",
       "      <td>Key Features of Alisha Solid Women's Cycling S...</td>\n",
       "      <td>No rating available</td>\n",
       "      <td>No rating available</td>\n",
       "      <td>Alisha</td>\n",
       "      <td>{\"product_specification\"=&gt;[{\"key\"=&gt;\"Number of ...</td>\n",
       "    </tr>\n",
       "    <tr>\n",
       "      <th>4</th>\n",
       "      <td>bc940ea42ee6bef5ac7cea3fb5cfbee7</td>\n",
       "      <td>2016-03-25 22:59:23 +0000</td>\n",
       "      <td>http://www.flipkart.com/sicons-all-purpose-arn...</td>\n",
       "      <td>Sicons All Purpose Arnica Dog Shampoo</td>\n",
       "      <td>[\"Pet Supplies &gt;&gt; Grooming &gt;&gt; Skin &amp; Coat Care...</td>\n",
       "      <td>PSOEH3ZYDMSYARJ5</td>\n",
       "      <td>220.0</td>\n",
       "      <td>210.0</td>\n",
       "      <td>[\"http://img5a.flixcart.com/image/pet-shampoo/...</td>\n",
       "      <td>False</td>\n",
       "      <td>Specifications of Sicons All Purpose Arnica Do...</td>\n",
       "      <td>No rating available</td>\n",
       "      <td>No rating available</td>\n",
       "      <td>Sicons</td>\n",
       "      <td>{\"product_specification\"=&gt;[{\"key\"=&gt;\"Pet Type\",...</td>\n",
       "    </tr>\n",
       "  </tbody>\n",
       "</table>\n",
       "</div>"
      ],
      "text/plain": [
       "                            uniq_id            crawl_timestamp  \\\n",
       "0  c2d766ca982eca8304150849735ffef9  2016-03-25 22:59:23 +0000   \n",
       "1  7f7036a6d550aaa89d34c77bd39a5e48  2016-03-25 22:59:23 +0000   \n",
       "2  f449ec65dcbc041b6ae5e6a32717d01b  2016-03-25 22:59:23 +0000   \n",
       "3  0973b37acd0c664e3de26e97e5571454  2016-03-25 22:59:23 +0000   \n",
       "4  bc940ea42ee6bef5ac7cea3fb5cfbee7  2016-03-25 22:59:23 +0000   \n",
       "\n",
       "                                         product_url  \\\n",
       "0  http://www.flipkart.com/alisha-solid-women-s-c...   \n",
       "1  http://www.flipkart.com/fabhomedecor-fabric-do...   \n",
       "2  http://www.flipkart.com/aw-bellies/p/itmeh4grg...   \n",
       "3  http://www.flipkart.com/alisha-solid-women-s-c...   \n",
       "4  http://www.flipkart.com/sicons-all-purpose-arn...   \n",
       "\n",
       "                            product_name  \\\n",
       "0    Alisha Solid Women's Cycling Shorts   \n",
       "1    FabHomeDecor Fabric Double Sofa Bed   \n",
       "2                             AW Bellies   \n",
       "3    Alisha Solid Women's Cycling Shorts   \n",
       "4  Sicons All Purpose Arnica Dog Shampoo   \n",
       "\n",
       "                               product_category_tree               pid  \\\n",
       "0  [\"Clothing >> Women's Clothing >> Lingerie, Sl...  SRTEH2FF9KEDEFGF   \n",
       "1  [\"Furniture >> Living Room Furniture >> Sofa B...  SBEEH3QGU7MFYJFY   \n",
       "2  [\"Footwear >> Women's Footwear >> Ballerinas >...  SHOEH4GRSUBJGZXE   \n",
       "3  [\"Clothing >> Women's Clothing >> Lingerie, Sl...  SRTEH2F6HUZMQ6SJ   \n",
       "4  [\"Pet Supplies >> Grooming >> Skin & Coat Care...  PSOEH3ZYDMSYARJ5   \n",
       "\n",
       "   retail_price  discounted_price  \\\n",
       "0         999.0             379.0   \n",
       "1       32157.0           22646.0   \n",
       "2         999.0             499.0   \n",
       "3         699.0             267.0   \n",
       "4         220.0             210.0   \n",
       "\n",
       "                                               image  is_FK_Advantage_product  \\\n",
       "0  [\"http://img5a.flixcart.com/image/short/u/4/a/...                    False   \n",
       "1  [\"http://img6a.flixcart.com/image/sofa-bed/j/f...                    False   \n",
       "2  [\"http://img5a.flixcart.com/image/shoe/7/z/z/r...                    False   \n",
       "3  [\"http://img5a.flixcart.com/image/short/6/2/h/...                    False   \n",
       "4  [\"http://img5a.flixcart.com/image/pet-shampoo/...                    False   \n",
       "\n",
       "                                         description       product_rating  \\\n",
       "0  Key Features of Alisha Solid Women's Cycling S...  No rating available   \n",
       "1  FabHomeDecor Fabric Double Sofa Bed (Finish Co...  No rating available   \n",
       "2  Key Features of AW Bellies Sandals Wedges Heel...  No rating available   \n",
       "3  Key Features of Alisha Solid Women's Cycling S...  No rating available   \n",
       "4  Specifications of Sicons All Purpose Arnica Do...  No rating available   \n",
       "\n",
       "        overall_rating         brand  \\\n",
       "0  No rating available        Alisha   \n",
       "1  No rating available  FabHomeDecor   \n",
       "2  No rating available            AW   \n",
       "3  No rating available        Alisha   \n",
       "4  No rating available        Sicons   \n",
       "\n",
       "                              product_specifications  \n",
       "0  {\"product_specification\"=>[{\"key\"=>\"Number of ...  \n",
       "1  {\"product_specification\"=>[{\"key\"=>\"Installati...  \n",
       "2  {\"product_specification\"=>[{\"key\"=>\"Ideal For\"...  \n",
       "3  {\"product_specification\"=>[{\"key\"=>\"Number of ...  \n",
       "4  {\"product_specification\"=>[{\"key\"=>\"Pet Type\",...  "
      ]
     },
     "execution_count": 4,
     "metadata": {},
     "output_type": "execute_result"
    }
   ],
   "source": [
    "# some examples from data\n",
    "Main_df.head()"
   ]
  },
  {
   "cell_type": "markdown",
   "metadata": {},
   "source": [
    "# Preprocessing"
   ]
  },
  {
   "cell_type": "code",
   "execution_count": 5,
   "metadata": {},
   "outputs": [
    {
     "name": "stdout",
     "output_type": "stream",
     "text": [
      "553  :  nan\n",
      "17299  :  nan\n"
     ]
    }
   ],
   "source": [
    "#-------------------------------------------------------------------------#\n",
    "# search of sentance which is other than string and then delete them\n",
    "for num in range(Main_df.shape[0]):\n",
    "    if type(Main_df.loc[num, 'description'])!=str:\n",
    "        print(num,\" : \",Main_df.loc[num, 'description'])\n",
    "        \n",
    "\n",
    "Main_df = Main_df[Main_df['description'].notna()]"
   ]
  },
  {
   "cell_type": "code",
   "execution_count": 6,
   "metadata": {},
   "outputs": [],
   "source": [
    "#-------------------------------------------------------------------------#\n",
    "# convert all sentance to lowercase\n",
    "Main_df['description'] = Main_df['description'].apply(lambda x: x.lower())\n",
    "\n",
    "#-------------------------------------------------------------------------#\n",
    "# tokenize sentance with condition\n",
    "# 1. only word with character\n",
    "# 2. word size is more than 3\n",
    "tokenizer = RegexpTokenizer(r'([a-z]{4,})\\W' , gaps = False)\n",
    "Main_df['description'] = Main_df['description'].apply(lambda x: tokenizer.tokenize(x))\n",
    "\n",
    "#-------------------------------------------------------------------------#\n",
    "# remove stop words\n",
    "stop_words = set(stopwords.words('english')) \n",
    "Main_df['description'] = Main_df['description'].apply(lambda x: [w for w in x if not w in stop_words])\n",
    "\n",
    "#-------------------------------------------------------------------------#\n",
    "# lemmatize the words\n",
    "lemmatizer = WordNetLemmatizer()\n",
    "Main_df['description'] = Main_df['description'].apply(lambda x: [lemmatizer.lemmatize(w) for w in x])\n",
    "\n",
    "#-------------------------------------------------------------------------#\n",
    "# join words to create sentance\n",
    "Main_df['description'] = Main_df['description'].apply(lambda x: \" \".join(x))"
   ]
  },
  {
   "cell_type": "markdown",
   "metadata": {},
   "source": [
    "# Label Preprocessing"
   ]
  },
  {
   "cell_type": "code",
   "execution_count": 7,
   "metadata": {},
   "outputs": [],
   "source": [
    "#-------------------------------------------------------------------------#\n",
    "# convert all sentance to lowercase\n",
    "Main_df['product_category_tree'] = Main_df['product_category_tree'].apply(lambda x: x.lower())\n",
    "\n",
    "#-------------------------------------------------------------------------#\n",
    "# spilt category tree to get primary category\n",
    "Main_df['category'] = Main_df['product_category_tree'].apply(lambda x: x.split(\">>\")[0])\n",
    "\n",
    "\n",
    "#-------------------------------------------------------------------------#\n",
    "# filter unnessary words from category\n",
    "pattern = re.compile('[\\W_]+')\n",
    "Main_df['category'] = Main_df['category'].apply(lambda x: pattern.sub(\" \", x))\n",
    "Main_df['category'] = Main_df['category'].apply(lambda x: x[1:-1])"
   ]
  },
  {
   "cell_type": "code",
   "execution_count": 8,
   "metadata": {},
   "outputs": [
    {
     "name": "stdout",
     "output_type": "stream",
     "text": [
      "Total unique category :  265\n",
      "All category frequency\n"
     ]
    },
    {
     "data": {
      "text/html": [
       "<style  type=\"text/css\" >\n",
       "    #T_20581e2c_9a11_11eb_91ed_9829a6451a9drow0_col0 {\n",
       "            width:  10em;\n",
       "             height:  80%;\n",
       "            background:  linear-gradient(90deg,#d65f5f 100.0%, transparent 100.0%);\n",
       "        }    #T_20581e2c_9a11_11eb_91ed_9829a6451a9drow1_col0 {\n",
       "            width:  10em;\n",
       "             height:  80%;\n",
       "            background:  linear-gradient(90deg,#d65f5f 57.0%, transparent 57.0%);\n",
       "        }    #T_20581e2c_9a11_11eb_91ed_9829a6451a9drow2_col0 {\n",
       "            width:  10em;\n",
       "             height:  80%;\n",
       "            background:  linear-gradient(90deg,#d65f5f 19.8%, transparent 19.8%);\n",
       "        }    #T_20581e2c_9a11_11eb_91ed_9829a6451a9drow3_col0 {\n",
       "            width:  10em;\n",
       "             height:  80%;\n",
       "            background:  linear-gradient(90deg,#d65f5f 17.7%, transparent 17.7%);\n",
       "        }    #T_20581e2c_9a11_11eb_91ed_9829a6451a9drow4_col0 {\n",
       "            width:  10em;\n",
       "             height:  80%;\n",
       "            background:  linear-gradient(90deg,#d65f5f 16.3%, transparent 16.3%);\n",
       "        }    #T_20581e2c_9a11_11eb_91ed_9829a6451a9drow5_col0 {\n",
       "            width:  10em;\n",
       "             height:  80%;\n",
       "            background:  linear-gradient(90deg,#d65f5f 15.0%, transparent 15.0%);\n",
       "        }    #T_20581e2c_9a11_11eb_91ed_9829a6451a9drow6_col0 {\n",
       "            width:  10em;\n",
       "             height:  80%;\n",
       "            background:  linear-gradient(90deg,#d65f5f 11.4%, transparent 11.4%);\n",
       "        }    #T_20581e2c_9a11_11eb_91ed_9829a6451a9drow7_col0 {\n",
       "            width:  10em;\n",
       "             height:  80%;\n",
       "            background:  linear-gradient(90deg,#d65f5f 11.3%, transparent 11.3%);\n",
       "        }    #T_20581e2c_9a11_11eb_91ed_9829a6451a9drow8_col0 {\n",
       "            width:  10em;\n",
       "             height:  80%;\n",
       "            background:  linear-gradient(90deg,#d65f5f 10.4%, transparent 10.4%);\n",
       "        }    #T_20581e2c_9a11_11eb_91ed_9829a6451a9drow9_col0 {\n",
       "            width:  10em;\n",
       "             height:  80%;\n",
       "            background:  linear-gradient(90deg,#d65f5f 9.3%, transparent 9.3%);\n",
       "        }    #T_20581e2c_9a11_11eb_91ed_9829a6451a9drow10_col0 {\n",
       "            width:  10em;\n",
       "             height:  80%;\n",
       "            background:  linear-gradient(90deg,#d65f5f 8.5%, transparent 8.5%);\n",
       "        }    #T_20581e2c_9a11_11eb_91ed_9829a6451a9drow11_col0 {\n",
       "            width:  10em;\n",
       "             height:  80%;\n",
       "            background:  linear-gradient(90deg,#d65f5f 7.8%, transparent 7.8%);\n",
       "        }    #T_20581e2c_9a11_11eb_91ed_9829a6451a9drow12_col0 {\n",
       "            width:  10em;\n",
       "             height:  80%;\n",
       "            background:  linear-gradient(90deg,#d65f5f 6.3%, transparent 6.3%);\n",
       "        }    #T_20581e2c_9a11_11eb_91ed_9829a6451a9drow13_col0 {\n",
       "            width:  10em;\n",
       "             height:  80%;\n",
       "            background:  linear-gradient(90deg,#d65f5f 5.3%, transparent 5.3%);\n",
       "        }    #T_20581e2c_9a11_11eb_91ed_9829a6451a9drow14_col0 {\n",
       "            width:  10em;\n",
       "             height:  80%;\n",
       "            background:  linear-gradient(90deg,#d65f5f 5.0%, transparent 5.0%);\n",
       "        }    #T_20581e2c_9a11_11eb_91ed_9829a6451a9drow15_col0 {\n",
       "            width:  10em;\n",
       "             height:  80%;\n",
       "            background:  linear-gradient(90deg,#d65f5f 4.2%, transparent 4.2%);\n",
       "        }    #T_20581e2c_9a11_11eb_91ed_9829a6451a9drow16_col0 {\n",
       "            width:  10em;\n",
       "             height:  80%;\n",
       "            background:  linear-gradient(90deg,#d65f5f 2.9%, transparent 2.9%);\n",
       "        }    #T_20581e2c_9a11_11eb_91ed_9829a6451a9drow17_col0 {\n",
       "            width:  10em;\n",
       "             height:  80%;\n",
       "            background:  linear-gradient(90deg,#d65f5f 2.6%, transparent 2.6%);\n",
       "        }    #T_20581e2c_9a11_11eb_91ed_9829a6451a9drow18_col0 {\n",
       "            width:  10em;\n",
       "             height:  80%;\n",
       "            background:  linear-gradient(90deg,#d65f5f 1.3%, transparent 1.3%);\n",
       "        }    #T_20581e2c_9a11_11eb_91ed_9829a6451a9drow19_col0 {\n",
       "            width:  10em;\n",
       "             height:  80%;\n",
       "            background:  linear-gradient(90deg,#d65f5f 1.3%, transparent 1.3%);\n",
       "        }    #T_20581e2c_9a11_11eb_91ed_9829a6451a9drow20_col0 {\n",
       "            width:  10em;\n",
       "             height:  80%;\n",
       "            background:  linear-gradient(90deg,#d65f5f 0.7%, transparent 0.7%);\n",
       "        }    #T_20581e2c_9a11_11eb_91ed_9829a6451a9drow21_col0 {\n",
       "            width:  10em;\n",
       "             height:  80%;\n",
       "            background:  linear-gradient(90deg,#d65f5f 0.6%, transparent 0.6%);\n",
       "        }    #T_20581e2c_9a11_11eb_91ed_9829a6451a9drow22_col0 {\n",
       "            width:  10em;\n",
       "             height:  80%;\n",
       "            background:  linear-gradient(90deg,#d65f5f 0.5%, transparent 0.5%);\n",
       "        }    #T_20581e2c_9a11_11eb_91ed_9829a6451a9drow23_col0 {\n",
       "            width:  10em;\n",
       "             height:  80%;\n",
       "            background:  linear-gradient(90deg,#d65f5f 0.5%, transparent 0.5%);\n",
       "        }    #T_20581e2c_9a11_11eb_91ed_9829a6451a9drow24_col0 {\n",
       "            width:  10em;\n",
       "             height:  80%;\n",
       "            background:  linear-gradient(90deg,#d65f5f 0.4%, transparent 0.4%);\n",
       "        }    #T_20581e2c_9a11_11eb_91ed_9829a6451a9drow25_col0 {\n",
       "            width:  10em;\n",
       "             height:  80%;\n",
       "            background:  linear-gradient(90deg,#d65f5f 0.3%, transparent 0.3%);\n",
       "        }    #T_20581e2c_9a11_11eb_91ed_9829a6451a9drow26_col0 {\n",
       "            width:  10em;\n",
       "             height:  80%;\n",
       "            background:  linear-gradient(90deg,#d65f5f 0.2%, transparent 0.2%);\n",
       "        }    #T_20581e2c_9a11_11eb_91ed_9829a6451a9drow27_col0 {\n",
       "            width:  10em;\n",
       "             height:  80%;\n",
       "            background:  linear-gradient(90deg,#d65f5f 0.1%, transparent 0.1%);\n",
       "        }    #T_20581e2c_9a11_11eb_91ed_9829a6451a9drow28_col0 {\n",
       "            width:  10em;\n",
       "             height:  80%;\n",
       "            background:  linear-gradient(90deg,#d65f5f 0.1%, transparent 0.1%);\n",
       "        }    #T_20581e2c_9a11_11eb_91ed_9829a6451a9drow29_col0 {\n",
       "            width:  10em;\n",
       "             height:  80%;\n",
       "            background:  linear-gradient(90deg,#d65f5f 0.1%, transparent 0.1%);\n",
       "        }    #T_20581e2c_9a11_11eb_91ed_9829a6451a9drow30_col0 {\n",
       "            width:  10em;\n",
       "             height:  80%;\n",
       "            background:  linear-gradient(90deg,#d65f5f 0.1%, transparent 0.1%);\n",
       "        }    #T_20581e2c_9a11_11eb_91ed_9829a6451a9drow31_col0 {\n",
       "            width:  10em;\n",
       "             height:  80%;\n",
       "            background:  linear-gradient(90deg,#d65f5f 0.1%, transparent 0.1%);\n",
       "        }    #T_20581e2c_9a11_11eb_91ed_9829a6451a9drow32_col0 {\n",
       "            width:  10em;\n",
       "             height:  80%;\n",
       "            background:  linear-gradient(90deg,#d65f5f 0.1%, transparent 0.1%);\n",
       "        }    #T_20581e2c_9a11_11eb_91ed_9829a6451a9drow33_col0 {\n",
       "            width:  10em;\n",
       "             height:  80%;\n",
       "            background:  linear-gradient(90deg,#d65f5f 0.0%, transparent 0.0%);\n",
       "        }    #T_20581e2c_9a11_11eb_91ed_9829a6451a9drow34_col0 {\n",
       "            width:  10em;\n",
       "             height:  80%;\n",
       "            background:  linear-gradient(90deg,#d65f5f 0.0%, transparent 0.0%);\n",
       "        }    #T_20581e2c_9a11_11eb_91ed_9829a6451a9drow35_col0 {\n",
       "            width:  10em;\n",
       "             height:  80%;\n",
       "            background:  linear-gradient(90deg,#d65f5f 0.0%, transparent 0.0%);\n",
       "        }    #T_20581e2c_9a11_11eb_91ed_9829a6451a9drow36_col0 {\n",
       "            width:  10em;\n",
       "             height:  80%;\n",
       "            background:  linear-gradient(90deg,#d65f5f 0.0%, transparent 0.0%);\n",
       "        }    #T_20581e2c_9a11_11eb_91ed_9829a6451a9drow37_col0 {\n",
       "            width:  10em;\n",
       "             height:  80%;\n",
       "            background:  linear-gradient(90deg,#d65f5f 0.0%, transparent 0.0%);\n",
       "        }    #T_20581e2c_9a11_11eb_91ed_9829a6451a9drow38_col0 {\n",
       "            width:  10em;\n",
       "             height:  80%;\n",
       "            background:  linear-gradient(90deg,#d65f5f 0.0%, transparent 0.0%);\n",
       "        }    #T_20581e2c_9a11_11eb_91ed_9829a6451a9drow39_col0 {\n",
       "            width:  10em;\n",
       "             height:  80%;\n",
       "            background:  linear-gradient(90deg,#d65f5f 0.0%, transparent 0.0%);\n",
       "        }    #T_20581e2c_9a11_11eb_91ed_9829a6451a9drow40_col0 {\n",
       "            width:  10em;\n",
       "             height:  80%;\n",
       "            background:  linear-gradient(90deg,#d65f5f 0.0%, transparent 0.0%);\n",
       "        }    #T_20581e2c_9a11_11eb_91ed_9829a6451a9drow41_col0 {\n",
       "            width:  10em;\n",
       "             height:  80%;\n",
       "            background:  linear-gradient(90deg,#d65f5f 0.0%, transparent 0.0%);\n",
       "        }    #T_20581e2c_9a11_11eb_91ed_9829a6451a9drow42_col0 {\n",
       "            width:  10em;\n",
       "             height:  80%;\n",
       "            background:  linear-gradient(90deg,#d65f5f 0.0%, transparent 0.0%);\n",
       "        }    #T_20581e2c_9a11_11eb_91ed_9829a6451a9drow43_col0 {\n",
       "            width:  10em;\n",
       "             height:  80%;\n",
       "            background:  linear-gradient(90deg,#d65f5f 0.0%, transparent 0.0%);\n",
       "        }    #T_20581e2c_9a11_11eb_91ed_9829a6451a9drow44_col0 {\n",
       "            width:  10em;\n",
       "             height:  80%;\n",
       "            background:  linear-gradient(90deg,#d65f5f 0.0%, transparent 0.0%);\n",
       "        }    #T_20581e2c_9a11_11eb_91ed_9829a6451a9drow45_col0 {\n",
       "            width:  10em;\n",
       "             height:  80%;\n",
       "            background:  linear-gradient(90deg,#d65f5f 0.0%, transparent 0.0%);\n",
       "        }    #T_20581e2c_9a11_11eb_91ed_9829a6451a9drow46_col0 {\n",
       "            width:  10em;\n",
       "             height:  80%;\n",
       "            background:  linear-gradient(90deg,#d65f5f 0.0%, transparent 0.0%);\n",
       "        }    #T_20581e2c_9a11_11eb_91ed_9829a6451a9drow47_col0 {\n",
       "            width:  10em;\n",
       "             height:  80%;\n",
       "            background:  linear-gradient(90deg,#d65f5f 0.0%, transparent 0.0%);\n",
       "        }    #T_20581e2c_9a11_11eb_91ed_9829a6451a9drow48_col0 {\n",
       "            width:  10em;\n",
       "             height:  80%;\n",
       "        }    #T_20581e2c_9a11_11eb_91ed_9829a6451a9drow49_col0 {\n",
       "            width:  10em;\n",
       "             height:  80%;\n",
       "        }</style><table id=\"T_20581e2c_9a11_11eb_91ed_9829a6451a9d\" ><thead>    <tr>        <th class=\"blank level0\" ></th>        <th class=\"col_heading level0 col0\" >category</th>    </tr></thead><tbody>\n",
       "                <tr>\n",
       "                        <th id=\"T_20581e2c_9a11_11eb_91ed_9829a6451a9dlevel0_row0\" class=\"row_heading level0 row0\" >clothing</th>\n",
       "                        <td id=\"T_20581e2c_9a11_11eb_91ed_9829a6451a9drow0_col0\" class=\"data row0 col0\" >6197</td>\n",
       "            </tr>\n",
       "            <tr>\n",
       "                        <th id=\"T_20581e2c_9a11_11eb_91ed_9829a6451a9dlevel0_row1\" class=\"row_heading level0 row1\" >jewellery</th>\n",
       "                        <td id=\"T_20581e2c_9a11_11eb_91ed_9829a6451a9drow1_col0\" class=\"data row1 col0\" >3531</td>\n",
       "            </tr>\n",
       "            <tr>\n",
       "                        <th id=\"T_20581e2c_9a11_11eb_91ed_9829a6451a9dlevel0_row2\" class=\"row_heading level0 row2\" >footwear</th>\n",
       "                        <td id=\"T_20581e2c_9a11_11eb_91ed_9829a6451a9drow2_col0\" class=\"data row2 col0\" >1227</td>\n",
       "            </tr>\n",
       "            <tr>\n",
       "                        <th id=\"T_20581e2c_9a11_11eb_91ed_9829a6451a9dlevel0_row3\" class=\"row_heading level0 row3\" >mobiles accessories</th>\n",
       "                        <td id=\"T_20581e2c_9a11_11eb_91ed_9829a6451a9drow3_col0\" class=\"data row3 col0\" >1099</td>\n",
       "            </tr>\n",
       "            <tr>\n",
       "                        <th id=\"T_20581e2c_9a11_11eb_91ed_9829a6451a9dlevel0_row4\" class=\"row_heading level0 row4\" >automotive</th>\n",
       "                        <td id=\"T_20581e2c_9a11_11eb_91ed_9829a6451a9drow4_col0\" class=\"data row4 col0\" >1012</td>\n",
       "            </tr>\n",
       "            <tr>\n",
       "                        <th id=\"T_20581e2c_9a11_11eb_91ed_9829a6451a9dlevel0_row5\" class=\"row_heading level0 row5\" >home decor festive needs</th>\n",
       "                        <td id=\"T_20581e2c_9a11_11eb_91ed_9829a6451a9drow5_col0\" class=\"data row5 col0\" >929</td>\n",
       "            </tr>\n",
       "            <tr>\n",
       "                        <th id=\"T_20581e2c_9a11_11eb_91ed_9829a6451a9dlevel0_row6\" class=\"row_heading level0 row6\" >beauty and personal care</th>\n",
       "                        <td id=\"T_20581e2c_9a11_11eb_91ed_9829a6451a9drow6_col0\" class=\"data row6 col0\" >710</td>\n",
       "            </tr>\n",
       "            <tr>\n",
       "                        <th id=\"T_20581e2c_9a11_11eb_91ed_9829a6451a9dlevel0_row7\" class=\"row_heading level0 row7\" >home furnishing</th>\n",
       "                        <td id=\"T_20581e2c_9a11_11eb_91ed_9829a6451a9drow7_col0\" class=\"data row7 col0\" >699</td>\n",
       "            </tr>\n",
       "            <tr>\n",
       "                        <th id=\"T_20581e2c_9a11_11eb_91ed_9829a6451a9dlevel0_row8\" class=\"row_heading level0 row8\" >kitchen dining</th>\n",
       "                        <td id=\"T_20581e2c_9a11_11eb_91ed_9829a6451a9drow8_col0\" class=\"data row8 col0\" >647</td>\n",
       "            </tr>\n",
       "            <tr>\n",
       "                        <th id=\"T_20581e2c_9a11_11eb_91ed_9829a6451a9dlevel0_row9\" class=\"row_heading level0 row9\" >computers</th>\n",
       "                        <td id=\"T_20581e2c_9a11_11eb_91ed_9829a6451a9drow9_col0\" class=\"data row9 col0\" >578</td>\n",
       "            </tr>\n",
       "            <tr>\n",
       "                        <th id=\"T_20581e2c_9a11_11eb_91ed_9829a6451a9dlevel0_row10\" class=\"row_heading level0 row10\" >watches</th>\n",
       "                        <td id=\"T_20581e2c_9a11_11eb_91ed_9829a6451a9drow10_col0\" class=\"data row10 col0\" >530</td>\n",
       "            </tr>\n",
       "            <tr>\n",
       "                        <th id=\"T_20581e2c_9a11_11eb_91ed_9829a6451a9dlevel0_row11\" class=\"row_heading level0 row11\" >baby care</th>\n",
       "                        <td id=\"T_20581e2c_9a11_11eb_91ed_9829a6451a9drow11_col0\" class=\"data row11 col0\" >483</td>\n",
       "            </tr>\n",
       "            <tr>\n",
       "                        <th id=\"T_20581e2c_9a11_11eb_91ed_9829a6451a9dlevel0_row12\" class=\"row_heading level0 row12\" >tools hardware</th>\n",
       "                        <td id=\"T_20581e2c_9a11_11eb_91ed_9829a6451a9drow12_col0\" class=\"data row12 col0\" >391</td>\n",
       "            </tr>\n",
       "            <tr>\n",
       "                        <th id=\"T_20581e2c_9a11_11eb_91ed_9829a6451a9dlevel0_row13\" class=\"row_heading level0 row13\" >toys school supplies</th>\n",
       "                        <td id=\"T_20581e2c_9a11_11eb_91ed_9829a6451a9drow13_col0\" class=\"data row13 col0\" >330</td>\n",
       "            </tr>\n",
       "            <tr>\n",
       "                        <th id=\"T_20581e2c_9a11_11eb_91ed_9829a6451a9dlevel0_row14\" class=\"row_heading level0 row14\" >pens stationery</th>\n",
       "                        <td id=\"T_20581e2c_9a11_11eb_91ed_9829a6451a9drow14_col0\" class=\"data row14 col0\" >313</td>\n",
       "            </tr>\n",
       "            <tr>\n",
       "                        <th id=\"T_20581e2c_9a11_11eb_91ed_9829a6451a9dlevel0_row15\" class=\"row_heading level0 row15\" >bags wallets belts</th>\n",
       "                        <td id=\"T_20581e2c_9a11_11eb_91ed_9829a6451a9drow15_col0\" class=\"data row15 col0\" >265</td>\n",
       "            </tr>\n",
       "            <tr>\n",
       "                        <th id=\"T_20581e2c_9a11_11eb_91ed_9829a6451a9dlevel0_row16\" class=\"row_heading level0 row16\" >furniture</th>\n",
       "                        <td id=\"T_20581e2c_9a11_11eb_91ed_9829a6451a9drow16_col0\" class=\"data row16 col0\" >180</td>\n",
       "            </tr>\n",
       "            <tr>\n",
       "                        <th id=\"T_20581e2c_9a11_11eb_91ed_9829a6451a9dlevel0_row17\" class=\"row_heading level0 row17\" >sports fitness</th>\n",
       "                        <td id=\"T_20581e2c_9a11_11eb_91ed_9829a6451a9drow17_col0\" class=\"data row17 col0\" >166</td>\n",
       "            </tr>\n",
       "            <tr>\n",
       "                        <th id=\"T_20581e2c_9a11_11eb_91ed_9829a6451a9dlevel0_row18\" class=\"row_heading level0 row18\" >cameras accessories</th>\n",
       "                        <td id=\"T_20581e2c_9a11_11eb_91ed_9829a6451a9drow18_col0\" class=\"data row18 col0\" >82</td>\n",
       "            </tr>\n",
       "            <tr>\n",
       "                        <th id=\"T_20581e2c_9a11_11eb_91ed_9829a6451a9dlevel0_row19\" class=\"row_heading level0 row19\" >home improvement</th>\n",
       "                        <td id=\"T_20581e2c_9a11_11eb_91ed_9829a6451a9drow19_col0\" class=\"data row19 col0\" >81</td>\n",
       "            </tr>\n",
       "            <tr>\n",
       "                        <th id=\"T_20581e2c_9a11_11eb_91ed_9829a6451a9dlevel0_row20\" class=\"row_heading level0 row20\" >health personal care appliances</th>\n",
       "                        <td id=\"T_20581e2c_9a11_11eb_91ed_9829a6451a9drow20_col0\" class=\"data row20 col0\" >43</td>\n",
       "            </tr>\n",
       "            <tr>\n",
       "                        <th id=\"T_20581e2c_9a11_11eb_91ed_9829a6451a9dlevel0_row21\" class=\"row_heading level0 row21\" >sunglasses</th>\n",
       "                        <td id=\"T_20581e2c_9a11_11eb_91ed_9829a6451a9drow21_col0\" class=\"data row21 col0\" >40</td>\n",
       "            </tr>\n",
       "            <tr>\n",
       "                        <th id=\"T_20581e2c_9a11_11eb_91ed_9829a6451a9dlevel0_row22\" class=\"row_heading level0 row22\" >gaming</th>\n",
       "                        <td id=\"T_20581e2c_9a11_11eb_91ed_9829a6451a9drow22_col0\" class=\"data row22 col0\" >35</td>\n",
       "            </tr>\n",
       "            <tr>\n",
       "                        <th id=\"T_20581e2c_9a11_11eb_91ed_9829a6451a9dlevel0_row23\" class=\"row_heading level0 row23\" >pet supplies</th>\n",
       "                        <td id=\"T_20581e2c_9a11_11eb_91ed_9829a6451a9drow23_col0\" class=\"data row23 col0\" >30</td>\n",
       "            </tr>\n",
       "            <tr>\n",
       "                        <th id=\"T_20581e2c_9a11_11eb_91ed_9829a6451a9dlevel0_row24\" class=\"row_heading level0 row24\" >home kitchen</th>\n",
       "                        <td id=\"T_20581e2c_9a11_11eb_91ed_9829a6451a9drow24_col0\" class=\"data row24 col0\" >24</td>\n",
       "            </tr>\n",
       "            <tr>\n",
       "                        <th id=\"T_20581e2c_9a11_11eb_91ed_9829a6451a9dlevel0_row25\" class=\"row_heading level0 row25\" >home entertainment</th>\n",
       "                        <td id=\"T_20581e2c_9a11_11eb_91ed_9829a6451a9drow25_col0\" class=\"data row25 col0\" >19</td>\n",
       "            </tr>\n",
       "            <tr>\n",
       "                        <th id=\"T_20581e2c_9a11_11eb_91ed_9829a6451a9dlevel0_row26\" class=\"row_heading level0 row26\" >ebooks</th>\n",
       "                        <td id=\"T_20581e2c_9a11_11eb_91ed_9829a6451a9drow26_col0\" class=\"data row26 col0\" >15</td>\n",
       "            </tr>\n",
       "            <tr>\n",
       "                        <th id=\"T_20581e2c_9a11_11eb_91ed_9829a6451a9dlevel0_row27\" class=\"row_heading level0 row27\" >eyewear</th>\n",
       "                        <td id=\"T_20581e2c_9a11_11eb_91ed_9829a6451a9drow27_col0\" class=\"data row27 col0\" >10</td>\n",
       "            </tr>\n",
       "            <tr>\n",
       "                        <th id=\"T_20581e2c_9a11_11eb_91ed_9829a6451a9dlevel0_row28\" class=\"row_heading level0 row28\" >clovia women s full coverage bra</th>\n",
       "                        <td id=\"T_20581e2c_9a11_11eb_91ed_9829a6451a9drow28_col0\" class=\"data row28 col0\" >9</td>\n",
       "            </tr>\n",
       "            <tr>\n",
       "                        <th id=\"T_20581e2c_9a11_11eb_91ed_9829a6451a9dlevel0_row29\" class=\"row_heading level0 row29\" >lilliput top baby girl s combo</th>\n",
       "                        <td id=\"T_20581e2c_9a11_11eb_91ed_9829a6451a9drow29_col0\" class=\"data row29 col0\" >8</td>\n",
       "            </tr>\n",
       "            <tr>\n",
       "                        <th id=\"T_20581e2c_9a11_11eb_91ed_9829a6451a9dlevel0_row30\" class=\"row_heading level0 row30\" >vishudh printed women s straight kurta</th>\n",
       "                        <td id=\"T_20581e2c_9a11_11eb_91ed_9829a6451a9drow30_col0\" class=\"data row30 col0\" >8</td>\n",
       "            </tr>\n",
       "            <tr>\n",
       "                        <th id=\"T_20581e2c_9a11_11eb_91ed_9829a6451a9dlevel0_row31\" class=\"row_heading level0 row31\" >olvin aviator sunglasses</th>\n",
       "                        <td id=\"T_20581e2c_9a11_11eb_91ed_9829a6451a9drow31_col0\" class=\"data row31 col0\" >7</td>\n",
       "            </tr>\n",
       "            <tr>\n",
       "                        <th id=\"T_20581e2c_9a11_11eb_91ed_9829a6451a9dlevel0_row32\" class=\"row_heading level0 row32\" >clovia women s t shirt bra</th>\n",
       "                        <td id=\"T_20581e2c_9a11_11eb_91ed_9829a6451a9drow32_col0\" class=\"data row32 col0\" >6</td>\n",
       "            </tr>\n",
       "            <tr>\n",
       "                        <th id=\"T_20581e2c_9a11_11eb_91ed_9829a6451a9dlevel0_row33\" class=\"row_heading level0 row33\" >masara solid women s straight kurta</th>\n",
       "                        <td id=\"T_20581e2c_9a11_11eb_91ed_9829a6451a9drow33_col0\" class=\"data row33 col0\" >5</td>\n",
       "            </tr>\n",
       "            <tr>\n",
       "                        <th id=\"T_20581e2c_9a11_11eb_91ed_9829a6451a9dlevel0_row34\" class=\"row_heading level0 row34\" >feet flow women flats</th>\n",
       "                        <td id=\"T_20581e2c_9a11_11eb_91ed_9829a6451a9drow34_col0\" class=\"data row34 col0\" >4</td>\n",
       "            </tr>\n",
       "            <tr>\n",
       "                        <th id=\"T_20581e2c_9a11_11eb_91ed_9829a6451a9dlevel0_row35\" class=\"row_heading level0 row35\" >household supplies</th>\n",
       "                        <td id=\"T_20581e2c_9a11_11eb_91ed_9829a6451a9drow35_col0\" class=\"data row35 col0\" >4</td>\n",
       "            </tr>\n",
       "            <tr>\n",
       "                        <th id=\"T_20581e2c_9a11_11eb_91ed_9829a6451a9dlevel0_row36\" class=\"row_heading level0 row36\" >dressberry gold synthetic clutch</th>\n",
       "                        <td id=\"T_20581e2c_9a11_11eb_91ed_9829a6451a9drow36_col0\" class=\"data row36 col0\" >4</td>\n",
       "            </tr>\n",
       "            <tr>\n",
       "                        <th id=\"T_20581e2c_9a11_11eb_91ed_9829a6451a9dlevel0_row37\" class=\"row_heading level0 row37\" >firangi cotton polyester free floor mat firangi</th>\n",
       "                        <td id=\"T_20581e2c_9a11_11eb_91ed_9829a6451a9drow37_col0\" class=\"data row37 col0\" >4</td>\n",
       "            </tr>\n",
       "            <tr>\n",
       "                        <th id=\"T_20581e2c_9a11_11eb_91ed_9829a6451a9dlevel0_row38\" class=\"row_heading level0 row38\" >pu good women flats</th>\n",
       "                        <td id=\"T_20581e2c_9a11_11eb_91ed_9829a6451a9drow38_col0\" class=\"data row38 col0\" >4</td>\n",
       "            </tr>\n",
       "            <tr>\n",
       "                        <th id=\"T_20581e2c_9a11_11eb_91ed_9829a6451a9dlevel0_row39\" class=\"row_heading level0 row39\" >olvin wayfarer sunglasses</th>\n",
       "                        <td id=\"T_20581e2c_9a11_11eb_91ed_9829a6451a9drow39_col0\" class=\"data row39 col0\" >4</td>\n",
       "            </tr>\n",
       "            <tr>\n",
       "                        <th id=\"T_20581e2c_9a11_11eb_91ed_9829a6451a9dlevel0_row40\" class=\"row_heading level0 row40\" >pout brass bangle</th>\n",
       "                        <td id=\"T_20581e2c_9a11_11eb_91ed_9829a6451a9drow40_col0\" class=\"data row40 col0\" >3</td>\n",
       "            </tr>\n",
       "            <tr>\n",
       "                        <th id=\"T_20581e2c_9a11_11eb_91ed_9829a6451a9dlevel0_row41\" class=\"row_heading level0 row41\" >treppe bellies</th>\n",
       "                        <td id=\"T_20581e2c_9a11_11eb_91ed_9829a6451a9drow41_col0\" class=\"data row41 col0\" >3</td>\n",
       "            </tr>\n",
       "            <tr>\n",
       "                        <th id=\"T_20581e2c_9a11_11eb_91ed_9829a6451a9dlevel0_row42\" class=\"row_heading level0 row42\" >indistar self design viscose women s stole</th>\n",
       "                        <td id=\"T_20581e2c_9a11_11eb_91ed_9829a6451a9drow42_col0\" class=\"data row42 col0\" >3</td>\n",
       "            </tr>\n",
       "            <tr>\n",
       "                        <th id=\"T_20581e2c_9a11_11eb_91ed_9829a6451a9dlevel0_row43\" class=\"row_heading level0 row43\" >frabjous german silver rings for women alloy zir</th>\n",
       "                        <td id=\"T_20581e2c_9a11_11eb_91ed_9829a6451a9drow43_col0\" class=\"data row43 col0\" >3</td>\n",
       "            </tr>\n",
       "            <tr>\n",
       "                        <th id=\"T_20581e2c_9a11_11eb_91ed_9829a6451a9dlevel0_row44\" class=\"row_heading level0 row44\" >ruhi s creations polyester silk blend cartoon ki</th>\n",
       "                        <td id=\"T_20581e2c_9a11_11eb_91ed_9829a6451a9drow44_col0\" class=\"data row44 col0\" >3</td>\n",
       "            </tr>\n",
       "            <tr>\n",
       "                        <th id=\"T_20581e2c_9a11_11eb_91ed_9829a6451a9dlevel0_row45\" class=\"row_heading level0 row45\" >olvin oval sunglasses</th>\n",
       "                        <td id=\"T_20581e2c_9a11_11eb_91ed_9829a6451a9drow45_col0\" class=\"data row45 col0\" >3</td>\n",
       "            </tr>\n",
       "            <tr>\n",
       "                        <th id=\"T_20581e2c_9a11_11eb_91ed_9829a6451a9dlevel0_row46\" class=\"row_heading level0 row46\" >dilan jewels alloy zircon 18k yellow gold bangle</th>\n",
       "                        <td id=\"T_20581e2c_9a11_11eb_91ed_9829a6451a9drow46_col0\" class=\"data row46 col0\" >3</td>\n",
       "            </tr>\n",
       "            <tr>\n",
       "                        <th id=\"T_20581e2c_9a11_11eb_91ed_9829a6451a9dlevel0_row47\" class=\"row_heading level0 row47\" >dassler slim fit women s multicolor jeans</th>\n",
       "                        <td id=\"T_20581e2c_9a11_11eb_91ed_9829a6451a9drow47_col0\" class=\"data row47 col0\" >3</td>\n",
       "            </tr>\n",
       "            <tr>\n",
       "                        <th id=\"T_20581e2c_9a11_11eb_91ed_9829a6451a9dlevel0_row48\" class=\"row_heading level0 row48\" >dressberry black synthetic clutch</th>\n",
       "                        <td id=\"T_20581e2c_9a11_11eb_91ed_9829a6451a9drow48_col0\" class=\"data row48 col0\" >2</td>\n",
       "            </tr>\n",
       "            <tr>\n",
       "                        <th id=\"T_20581e2c_9a11_11eb_91ed_9829a6451a9dlevel0_row49\" class=\"row_heading level0 row49\" >timberlake slim fit fit women s brown jeans</th>\n",
       "                        <td id=\"T_20581e2c_9a11_11eb_91ed_9829a6451a9drow49_col0\" class=\"data row49 col0\" >2</td>\n",
       "            </tr>\n",
       "    </tbody></table>"
      ],
      "text/plain": [
       "<pandas.io.formats.style.Styler at 0x14d9f1a8c08>"
      ]
     },
     "execution_count": 8,
     "metadata": {},
     "output_type": "execute_result"
    }
   ],
   "source": [
    "#-------------------------------------------------------------------------#\n",
    "# There are total 256 category but only top 50 are visualised\n",
    "print(\"Total unique category : \", Main_df['category'].unique().shape[0])\n",
    "print(\"All category frequency\")\n",
    "Main_df['category'].value_counts().head(50).to_frame().style.bar()"
   ]
  },
  {
   "cell_type": "code",
   "execution_count": 9,
   "metadata": {},
   "outputs": [],
   "source": [
    "#-------------------------------------------------------------------------#\n",
    "# taken only those category which has frequency of more than 50\n",
    "Category_count = Main_df['category'].value_counts()\n",
    "Category_count = Category_count[Category_count>50]\n",
    "Category_taken = Category_count.index.to_list()\n",
    "Main_df = Main_df[Main_df['category'].isin(Category_taken)]\n",
    "\n",
    "#-------------------------------------------------------------------------#\n",
    "# convert string category to number category\n",
    "Category_Mapping = {}\n",
    "for (index, category) in enumerate(Category_taken):\n",
    "    Category_Mapping[category] = index+1\n",
    "Main_df['category'] = Main_df['category'].apply(lambda x: Category_Mapping[x])"
   ]
  },
  {
   "cell_type": "code",
   "execution_count": 11,
   "metadata": {
    "scrolled": true
   },
   "outputs": [
    {
     "name": "stdout",
     "output_type": "stream",
     "text": [
      "Category are mapped as below\n"
     ]
    },
    {
     "data": {
      "text/plain": [
       "{'clothing': 1,\n",
       " 'jewellery': 2,\n",
       " 'footwear': 3,\n",
       " 'mobiles accessories': 4,\n",
       " 'automotive': 5,\n",
       " 'home decor festive needs': 6,\n",
       " 'beauty and personal care': 7,\n",
       " 'home furnishing': 8,\n",
       " 'kitchen dining': 9,\n",
       " 'computers': 10,\n",
       " 'watches': 11,\n",
       " 'baby care': 12,\n",
       " 'tools hardware': 13,\n",
       " 'toys school supplies': 14,\n",
       " 'pens stationery': 15,\n",
       " 'bags wallets belts': 16,\n",
       " 'furniture': 17,\n",
       " 'sports fitness': 18,\n",
       " 'cameras accessories': 19,\n",
       " 'home improvement': 20}"
      ]
     },
     "execution_count": 11,
     "metadata": {},
     "output_type": "execute_result"
    }
   ],
   "source": [
    "#-------------------------------------------------------------------------#\n",
    "# Category mapping dictionary\n",
    "print(\"Category are mapped as below\")\n",
    "Category_Mapping"
   ]
  },
  {
   "cell_type": "markdown",
   "metadata": {},
   "source": [
    "# EDA"
   ]
  },
  {
   "cell_type": "code",
   "execution_count": 10,
   "metadata": {},
   "outputs": [
    {
     "name": "stdout",
     "output_type": "stream",
     "text": [
      "Selected category frequency\n"
     ]
    },
    {
     "data": {
      "text/html": [
       "<style  type=\"text/css\" >\n",
       "    #T_2067a1b8_9a11_11eb_9379_9829a6451a9drow0_col0 {\n",
       "            width:  10em;\n",
       "             height:  80%;\n",
       "            background:  linear-gradient(90deg,#d65f5f 100.0%, transparent 100.0%);\n",
       "        }    #T_2067a1b8_9a11_11eb_9379_9829a6451a9drow1_col0 {\n",
       "            width:  10em;\n",
       "             height:  80%;\n",
       "            background:  linear-gradient(90deg,#d65f5f 56.4%, transparent 56.4%);\n",
       "        }    #T_2067a1b8_9a11_11eb_9379_9829a6451a9drow2_col0 {\n",
       "            width:  10em;\n",
       "             height:  80%;\n",
       "            background:  linear-gradient(90deg,#d65f5f 18.7%, transparent 18.7%);\n",
       "        }    #T_2067a1b8_9a11_11eb_9379_9829a6451a9drow3_col0 {\n",
       "            width:  10em;\n",
       "             height:  80%;\n",
       "            background:  linear-gradient(90deg,#d65f5f 16.6%, transparent 16.6%);\n",
       "        }    #T_2067a1b8_9a11_11eb_9379_9829a6451a9drow4_col0 {\n",
       "            width:  10em;\n",
       "             height:  80%;\n",
       "            background:  linear-gradient(90deg,#d65f5f 15.2%, transparent 15.2%);\n",
       "        }    #T_2067a1b8_9a11_11eb_9379_9829a6451a9drow5_col0 {\n",
       "            width:  10em;\n",
       "             height:  80%;\n",
       "            background:  linear-gradient(90deg,#d65f5f 13.9%, transparent 13.9%);\n",
       "        }    #T_2067a1b8_9a11_11eb_9379_9829a6451a9drow6_col0 {\n",
       "            width:  10em;\n",
       "             height:  80%;\n",
       "            background:  linear-gradient(90deg,#d65f5f 10.3%, transparent 10.3%);\n",
       "        }    #T_2067a1b8_9a11_11eb_9379_9829a6451a9drow7_col0 {\n",
       "            width:  10em;\n",
       "             height:  80%;\n",
       "            background:  linear-gradient(90deg,#d65f5f 10.1%, transparent 10.1%);\n",
       "        }    #T_2067a1b8_9a11_11eb_9379_9829a6451a9drow8_col0 {\n",
       "            width:  10em;\n",
       "             height:  80%;\n",
       "            background:  linear-gradient(90deg,#d65f5f 9.3%, transparent 9.3%);\n",
       "        }    #T_2067a1b8_9a11_11eb_9379_9829a6451a9drow9_col0 {\n",
       "            width:  10em;\n",
       "             height:  80%;\n",
       "            background:  linear-gradient(90deg,#d65f5f 8.1%, transparent 8.1%);\n",
       "        }    #T_2067a1b8_9a11_11eb_9379_9829a6451a9drow10_col0 {\n",
       "            width:  10em;\n",
       "             height:  80%;\n",
       "            background:  linear-gradient(90deg,#d65f5f 7.3%, transparent 7.3%);\n",
       "        }    #T_2067a1b8_9a11_11eb_9379_9829a6451a9drow11_col0 {\n",
       "            width:  10em;\n",
       "             height:  80%;\n",
       "            background:  linear-gradient(90deg,#d65f5f 6.6%, transparent 6.6%);\n",
       "        }    #T_2067a1b8_9a11_11eb_9379_9829a6451a9drow12_col0 {\n",
       "            width:  10em;\n",
       "             height:  80%;\n",
       "            background:  linear-gradient(90deg,#d65f5f 5.1%, transparent 5.1%);\n",
       "        }    #T_2067a1b8_9a11_11eb_9379_9829a6451a9drow13_col0 {\n",
       "            width:  10em;\n",
       "             height:  80%;\n",
       "            background:  linear-gradient(90deg,#d65f5f 4.1%, transparent 4.1%);\n",
       "        }    #T_2067a1b8_9a11_11eb_9379_9829a6451a9drow14_col0 {\n",
       "            width:  10em;\n",
       "             height:  80%;\n",
       "            background:  linear-gradient(90deg,#d65f5f 3.8%, transparent 3.8%);\n",
       "        }    #T_2067a1b8_9a11_11eb_9379_9829a6451a9drow15_col0 {\n",
       "            width:  10em;\n",
       "             height:  80%;\n",
       "            background:  linear-gradient(90deg,#d65f5f 3.0%, transparent 3.0%);\n",
       "        }    #T_2067a1b8_9a11_11eb_9379_9829a6451a9drow16_col0 {\n",
       "            width:  10em;\n",
       "             height:  80%;\n",
       "            background:  linear-gradient(90deg,#d65f5f 1.6%, transparent 1.6%);\n",
       "        }    #T_2067a1b8_9a11_11eb_9379_9829a6451a9drow17_col0 {\n",
       "            width:  10em;\n",
       "             height:  80%;\n",
       "            background:  linear-gradient(90deg,#d65f5f 1.4%, transparent 1.4%);\n",
       "        }    #T_2067a1b8_9a11_11eb_9379_9829a6451a9drow18_col0 {\n",
       "            width:  10em;\n",
       "             height:  80%;\n",
       "            background:  linear-gradient(90deg,#d65f5f 0.0%, transparent 0.0%);\n",
       "        }    #T_2067a1b8_9a11_11eb_9379_9829a6451a9drow19_col0 {\n",
       "            width:  10em;\n",
       "             height:  80%;\n",
       "        }</style><table id=\"T_2067a1b8_9a11_11eb_9379_9829a6451a9d\" ><thead>    <tr>        <th class=\"blank level0\" ></th>        <th class=\"col_heading level0 col0\" >category</th>    </tr></thead><tbody>\n",
       "                <tr>\n",
       "                        <th id=\"T_2067a1b8_9a11_11eb_9379_9829a6451a9dlevel0_row0\" class=\"row_heading level0 row0\" >1</th>\n",
       "                        <td id=\"T_2067a1b8_9a11_11eb_9379_9829a6451a9drow0_col0\" class=\"data row0 col0\" >6197</td>\n",
       "            </tr>\n",
       "            <tr>\n",
       "                        <th id=\"T_2067a1b8_9a11_11eb_9379_9829a6451a9dlevel0_row1\" class=\"row_heading level0 row1\" >2</th>\n",
       "                        <td id=\"T_2067a1b8_9a11_11eb_9379_9829a6451a9drow1_col0\" class=\"data row1 col0\" >3531</td>\n",
       "            </tr>\n",
       "            <tr>\n",
       "                        <th id=\"T_2067a1b8_9a11_11eb_9379_9829a6451a9dlevel0_row2\" class=\"row_heading level0 row2\" >3</th>\n",
       "                        <td id=\"T_2067a1b8_9a11_11eb_9379_9829a6451a9drow2_col0\" class=\"data row2 col0\" >1227</td>\n",
       "            </tr>\n",
       "            <tr>\n",
       "                        <th id=\"T_2067a1b8_9a11_11eb_9379_9829a6451a9dlevel0_row3\" class=\"row_heading level0 row3\" >4</th>\n",
       "                        <td id=\"T_2067a1b8_9a11_11eb_9379_9829a6451a9drow3_col0\" class=\"data row3 col0\" >1099</td>\n",
       "            </tr>\n",
       "            <tr>\n",
       "                        <th id=\"T_2067a1b8_9a11_11eb_9379_9829a6451a9dlevel0_row4\" class=\"row_heading level0 row4\" >5</th>\n",
       "                        <td id=\"T_2067a1b8_9a11_11eb_9379_9829a6451a9drow4_col0\" class=\"data row4 col0\" >1012</td>\n",
       "            </tr>\n",
       "            <tr>\n",
       "                        <th id=\"T_2067a1b8_9a11_11eb_9379_9829a6451a9dlevel0_row5\" class=\"row_heading level0 row5\" >6</th>\n",
       "                        <td id=\"T_2067a1b8_9a11_11eb_9379_9829a6451a9drow5_col0\" class=\"data row5 col0\" >929</td>\n",
       "            </tr>\n",
       "            <tr>\n",
       "                        <th id=\"T_2067a1b8_9a11_11eb_9379_9829a6451a9dlevel0_row6\" class=\"row_heading level0 row6\" >7</th>\n",
       "                        <td id=\"T_2067a1b8_9a11_11eb_9379_9829a6451a9drow6_col0\" class=\"data row6 col0\" >710</td>\n",
       "            </tr>\n",
       "            <tr>\n",
       "                        <th id=\"T_2067a1b8_9a11_11eb_9379_9829a6451a9dlevel0_row7\" class=\"row_heading level0 row7\" >8</th>\n",
       "                        <td id=\"T_2067a1b8_9a11_11eb_9379_9829a6451a9drow7_col0\" class=\"data row7 col0\" >699</td>\n",
       "            </tr>\n",
       "            <tr>\n",
       "                        <th id=\"T_2067a1b8_9a11_11eb_9379_9829a6451a9dlevel0_row8\" class=\"row_heading level0 row8\" >9</th>\n",
       "                        <td id=\"T_2067a1b8_9a11_11eb_9379_9829a6451a9drow8_col0\" class=\"data row8 col0\" >647</td>\n",
       "            </tr>\n",
       "            <tr>\n",
       "                        <th id=\"T_2067a1b8_9a11_11eb_9379_9829a6451a9dlevel0_row9\" class=\"row_heading level0 row9\" >10</th>\n",
       "                        <td id=\"T_2067a1b8_9a11_11eb_9379_9829a6451a9drow9_col0\" class=\"data row9 col0\" >578</td>\n",
       "            </tr>\n",
       "            <tr>\n",
       "                        <th id=\"T_2067a1b8_9a11_11eb_9379_9829a6451a9dlevel0_row10\" class=\"row_heading level0 row10\" >11</th>\n",
       "                        <td id=\"T_2067a1b8_9a11_11eb_9379_9829a6451a9drow10_col0\" class=\"data row10 col0\" >530</td>\n",
       "            </tr>\n",
       "            <tr>\n",
       "                        <th id=\"T_2067a1b8_9a11_11eb_9379_9829a6451a9dlevel0_row11\" class=\"row_heading level0 row11\" >12</th>\n",
       "                        <td id=\"T_2067a1b8_9a11_11eb_9379_9829a6451a9drow11_col0\" class=\"data row11 col0\" >483</td>\n",
       "            </tr>\n",
       "            <tr>\n",
       "                        <th id=\"T_2067a1b8_9a11_11eb_9379_9829a6451a9dlevel0_row12\" class=\"row_heading level0 row12\" >13</th>\n",
       "                        <td id=\"T_2067a1b8_9a11_11eb_9379_9829a6451a9drow12_col0\" class=\"data row12 col0\" >391</td>\n",
       "            </tr>\n",
       "            <tr>\n",
       "                        <th id=\"T_2067a1b8_9a11_11eb_9379_9829a6451a9dlevel0_row13\" class=\"row_heading level0 row13\" >14</th>\n",
       "                        <td id=\"T_2067a1b8_9a11_11eb_9379_9829a6451a9drow13_col0\" class=\"data row13 col0\" >330</td>\n",
       "            </tr>\n",
       "            <tr>\n",
       "                        <th id=\"T_2067a1b8_9a11_11eb_9379_9829a6451a9dlevel0_row14\" class=\"row_heading level0 row14\" >15</th>\n",
       "                        <td id=\"T_2067a1b8_9a11_11eb_9379_9829a6451a9drow14_col0\" class=\"data row14 col0\" >313</td>\n",
       "            </tr>\n",
       "            <tr>\n",
       "                        <th id=\"T_2067a1b8_9a11_11eb_9379_9829a6451a9dlevel0_row15\" class=\"row_heading level0 row15\" >16</th>\n",
       "                        <td id=\"T_2067a1b8_9a11_11eb_9379_9829a6451a9drow15_col0\" class=\"data row15 col0\" >265</td>\n",
       "            </tr>\n",
       "            <tr>\n",
       "                        <th id=\"T_2067a1b8_9a11_11eb_9379_9829a6451a9dlevel0_row16\" class=\"row_heading level0 row16\" >17</th>\n",
       "                        <td id=\"T_2067a1b8_9a11_11eb_9379_9829a6451a9drow16_col0\" class=\"data row16 col0\" >180</td>\n",
       "            </tr>\n",
       "            <tr>\n",
       "                        <th id=\"T_2067a1b8_9a11_11eb_9379_9829a6451a9dlevel0_row17\" class=\"row_heading level0 row17\" >18</th>\n",
       "                        <td id=\"T_2067a1b8_9a11_11eb_9379_9829a6451a9drow17_col0\" class=\"data row17 col0\" >166</td>\n",
       "            </tr>\n",
       "            <tr>\n",
       "                        <th id=\"T_2067a1b8_9a11_11eb_9379_9829a6451a9dlevel0_row18\" class=\"row_heading level0 row18\" >19</th>\n",
       "                        <td id=\"T_2067a1b8_9a11_11eb_9379_9829a6451a9drow18_col0\" class=\"data row18 col0\" >82</td>\n",
       "            </tr>\n",
       "            <tr>\n",
       "                        <th id=\"T_2067a1b8_9a11_11eb_9379_9829a6451a9dlevel0_row19\" class=\"row_heading level0 row19\" >20</th>\n",
       "                        <td id=\"T_2067a1b8_9a11_11eb_9379_9829a6451a9drow19_col0\" class=\"data row19 col0\" >81</td>\n",
       "            </tr>\n",
       "    </tbody></table>"
      ],
      "text/plain": [
       "<pandas.io.formats.style.Styler at 0x14d9f9d5d48>"
      ]
     },
     "execution_count": 10,
     "metadata": {},
     "output_type": "execute_result"
    }
   ],
   "source": [
    "#-------------------------------------------------------------------------#\n",
    "# There are the frequency of selected category\n",
    "print(\"Selected category frequency\")\n",
    "Main_df['category'].value_counts().to_frame().style.bar()"
   ]
  },
  {
   "cell_type": "code",
   "execution_count": 32,
   "metadata": {},
   "outputs": [
    {
     "name": "stderr",
     "output_type": "stream",
     "text": [
      "E:\\Anaconda\\envs\\groel\\lib\\site-packages\\seaborn\\distributions.py:2551: FutureWarning: `distplot` is a deprecated function and will be removed in a future version. Please adapt your code to use either `displot` (a figure-level function with similar flexibility) or `histplot` (an axes-level function for histograms).\n",
      "  warnings.warn(msg, FutureWarning)\n"
     ]
    },
    {
     "data": {
      "text/plain": [
       "<AxesSubplot:xlabel='description', ylabel='Density'>"
      ]
     },
     "execution_count": 32,
     "metadata": {},
     "output_type": "execute_result"
    },
    {
     "data": {
      "image/png": "[encoded data removed]",
      "text/plain": [
       "<Figure size 504x288 with 1 Axes>"
      ]
     },
     "metadata": {
      "needs_background": "light"
     },
     "output_type": "display_data"
    }
   ],
   "source": [
    "#-------------------------------------------------------------------------#\n",
    "# Density plot of size of sentance\n",
    "plt.figure(figsize=(7,4))\n",
    "sns.distplot(Main_df['description'].apply(lambda x: len(x)), bins=50)"
   ]
  },
  {
   "cell_type": "code",
   "execution_count": 15,
   "metadata": {},
   "outputs": [],
   "source": [
    "temp = Main_df['description'].apply(lambda x: len(x))"
   ]
  },
  {
   "cell_type": "code",
   "execution_count": 20,
   "metadata": {},
   "outputs": [
    {
     "data": {
      "text/plain": [
       "(16376,)"
      ]
     },
     "execution_count": 20,
     "metadata": {},
     "output_type": "execute_result"
    }
   ],
   "source": [
    "temp[temp<500].shape"
   ]
  },
  {
   "cell_type": "markdown",
   "metadata": {},
   "source": [
    "# Data split"
   ]
  },
  {
   "cell_type": "code",
   "execution_count": 12,
   "metadata": {},
   "outputs": [],
   "source": [
    "#-------------------------------------------------------------------------#\n",
    "# Shuffle rows of pandas dataframe\n",
    "Main_df = Main_df.sample(frac=1).reset_index(drop=True)\n",
    "\n",
    "#-------------------------------------------------------------------------#\n",
    "# Select labels and features\n",
    "X = Main_df['description']\n",
    "Y = Main_df['category']"
   ]
  },
  {
   "cell_type": "markdown",
   "metadata": {},
   "source": [
    "# Cross validation of default model"
   ]
  },
  {
   "cell_type": "code",
   "execution_count": 13,
   "metadata": {},
   "outputs": [],
   "source": [
    "#-------------------------------------------------------------------------#\n",
    "# Parameter \n",
    "#          model = model class from sklearn or xgboost library\n",
    "#              X = Pandas series of one column of processed sentance (in str form) \n",
    "#              Y = Pandas series of one column of related category (in numeric form)\n",
    "#\n",
    "#\n",
    "# This function will take processed sentance and category label, \n",
    "# Tf Idf of training data will be extracted \n",
    "# from extracted features only 8000 features will be taken out on the basis on chi\n",
    "# selected features will be trained on model passed from parameter\n",
    "#\n",
    "# Above step will be done 5 time and scores will be calculated and stored returned\n",
    "#\n",
    "# accuracy, precision, recall, F1, MCC score of every fold will be recored\n",
    "#\n",
    "#\n",
    "# Return \n",
    "#      cv_result = scores from cross validation\n",
    "#-------------------------------------------------------------------------#\n",
    "\n",
    "def Cross_validate_model(model, X, y):\n",
    "\n",
    "    scoring = {'accuracy': 'accuracy', \n",
    "                'precision_weighted':'precision_weighted', \n",
    "                'recall_weighted':'recall_weighted', \n",
    "                'f1_weighted':'f1_weighted', \n",
    "                'matthews_corrcoef': make_scorer(matthews_corrcoef)}\n",
    "\n",
    "    tfidf_vectorizer = TfidfVectorizer(lowercase=False, \n",
    "                                         preprocessor=None, \n",
    "                                         tokenizer=None,\n",
    "                                         ngram_range=(1,2),\n",
    "                                         binary=False)\n",
    "\n",
    "    feature_selector = SelectKBest(chi2, k=8000)\n",
    "\n",
    "    pipeline = Pipeline([('tfidf', tfidf_vectorizer),\n",
    "                         ('feature_selection',  feature_selector),\n",
    "                         ('model', model)])\n",
    "    \n",
    "    kfold = KFold(n_splits=5, shuffle=True, random_state=100)\n",
    "\n",
    "    cv_results = cross_validate(pipeline, X, y, cv=kfold, scoring=scoring)\n",
    "    \n",
    "    return cv_results    \n",
    "\n",
    "#-------------------------------------------------------------------------#\n",
    "# Parameter \n",
    "#      mat_list = dictionary in which key is name of model and value is cross validation score from function Cross_Validation\n",
    "#\n",
    "#\n",
    "# This function will combine cross validation score from dictionary and creates a pandas dataframe\n",
    "# from the pandas dataframe created boxplot of every score from cross validation score matix will be shown in which \n",
    "# on X axis = Model name\n",
    "# on Y axis = Score \n",
    "#\n",
    "#\n",
    "# Return \n",
    "#      None\n",
    "#-------------------------------------------------------------------------#\n",
    "\n",
    "def graphs_matrice(mat_list):\n",
    "    \n",
    "    mat_df = []\n",
    "    for key, value in mat_list:\n",
    "        this_df = pd.DataFrame(value)\n",
    "        this_df['model'] = key\n",
    "        mat_df.append(this_df)\n",
    "        \n",
    "    final_df = pd.concat(mat_df, ignore_index=True)\n",
    "            \n",
    "    grouping = final_df.groupby(by='model', axis=0, as_index=True, sort=False)\n",
    "\n",
    "    matrices = ['fit_time', 'test_accuracy', 'test_precision_weighted',\n",
    "            'test_recall_weighted', 'test_f1_weighted',\n",
    "            'test_matthews_corrcoef']\n",
    "    \n",
    "    sns.set(font_scale=1)\n",
    "    \n",
    "    for mat in matrices:\n",
    "        ax = sns.boxplot(x=\"model\", y=mat, hue=\"model\", data=final_df, palette=\"Set3\")\n",
    "        ax.get_legend().remove()\n",
    "        plt.show()"
   ]
  },
  {
   "cell_type": "code",
   "execution_count": 61,
   "metadata": {
    "collapsed": true
   },
   "outputs": [
    {
     "name": "stderr",
     "output_type": "stream",
     "text": [
      "E:\\Anaconda\\envs\\groel\\lib\\site-packages\\sklearn\\linear_model\\_logistic.py:764: ConvergenceWarning: lbfgs failed to converge (status=1):\n",
      "STOP: TOTAL NO. of ITERATIONS REACHED LIMIT.\n",
      "\n",
      "Increase the number of iterations (max_iter) or scale the data as shown in:\n",
      "    https://scikit-learn.org/stable/modules/preprocessing.html\n",
      "Please also refer to the documentation for alternative solver options:\n",
      "    https://scikit-learn.org/stable/modules/linear_model.html#logistic-regression\n",
      "  extra_warning_msg=_LOGISTIC_SOLVER_CONVERGENCE_MSG)\n",
      "E:\\Anaconda\\envs\\groel\\lib\\site-packages\\sklearn\\linear_model\\_logistic.py:764: ConvergenceWarning: lbfgs failed to converge (status=1):\n",
      "STOP: TOTAL NO. of ITERATIONS REACHED LIMIT.\n",
      "\n",
      "Increase the number of iterations (max_iter) or scale the data as shown in:\n",
      "    https://scikit-learn.org/stable/modules/preprocessing.html\n",
      "Please also refer to the documentation for alternative solver options:\n",
      "    https://scikit-learn.org/stable/modules/linear_model.html#logistic-regression\n",
      "  extra_warning_msg=_LOGISTIC_SOLVER_CONVERGENCE_MSG)\n",
      "E:\\Anaconda\\envs\\groel\\lib\\site-packages\\sklearn\\linear_model\\_logistic.py:764: ConvergenceWarning: lbfgs failed to converge (status=1):\n",
      "STOP: TOTAL NO. of ITERATIONS REACHED LIMIT.\n",
      "\n",
      "Increase the number of iterations (max_iter) or scale the data as shown in:\n",
      "    https://scikit-learn.org/stable/modules/preprocessing.html\n",
      "Please also refer to the documentation for alternative solver options:\n",
      "    https://scikit-learn.org/stable/modules/linear_model.html#logistic-regression\n",
      "  extra_warning_msg=_LOGISTIC_SOLVER_CONVERGENCE_MSG)\n",
      "E:\\Anaconda\\envs\\groel\\lib\\site-packages\\sklearn\\linear_model\\_logistic.py:764: ConvergenceWarning: lbfgs failed to converge (status=1):\n",
      "STOP: TOTAL NO. of ITERATIONS REACHED LIMIT.\n",
      "\n",
      "Increase the number of iterations (max_iter) or scale the data as shown in:\n",
      "    https://scikit-learn.org/stable/modules/preprocessing.html\n",
      "Please also refer to the documentation for alternative solver options:\n",
      "    https://scikit-learn.org/stable/modules/linear_model.html#logistic-regression\n",
      "  extra_warning_msg=_LOGISTIC_SOLVER_CONVERGENCE_MSG)\n",
      "E:\\Anaconda\\envs\\groel\\lib\\site-packages\\sklearn\\linear_model\\_logistic.py:764: ConvergenceWarning: lbfgs failed to converge (status=1):\n",
      "STOP: TOTAL NO. of ITERATIONS REACHED LIMIT.\n",
      "\n",
      "Increase the number of iterations (max_iter) or scale the data as shown in:\n",
      "    https://scikit-learn.org/stable/modules/preprocessing.html\n",
      "Please also refer to the documentation for alternative solver options:\n",
      "    https://scikit-learn.org/stable/modules/linear_model.html#logistic-regression\n",
      "  extra_warning_msg=_LOGISTIC_SOLVER_CONVERGENCE_MSG)\n"
     ]
    }
   ],
   "source": [
    "#-------------------------------------------------------------------------#\n",
    "# Record cross validation score of logistic regression model\n",
    "Logistic_regression = Cross_validate_model(LogisticRegression(), X, Y)"
   ]
  },
  {
   "cell_type": "code",
   "execution_count": 51,
   "metadata": {},
   "outputs": [],
   "source": [
    "#-------------------------------------------------------------------------#\n",
    "# Record cross validation score of random forest model\n",
    "Random_forest = Cross_validate_model(RandomForestClassifier(), X, Y)"
   ]
  },
  {
   "cell_type": "code",
   "execution_count": 66,
   "metadata": {},
   "outputs": [],
   "source": [
    "#-------------------------------------------------------------------------#\n",
    "# Record cross validation score of XGBboost model\n",
    "XGBRandom_forest = Cross_validate_model(XGBClassifier(), X, Y)"
   ]
  },
  {
   "cell_type": "code",
   "execution_count": 37,
   "metadata": {},
   "outputs": [],
   "source": [
    "#-------------------------------------------------------------------------#\n",
    "# Record cross validation score of KNN model\n",
    "KNearest_Neighbour  = Cross_validate_model(KNeighborsClassifier(), X, Y)"
   ]
  },
  {
   "cell_type": "code",
   "execution_count": 59,
   "metadata": {},
   "outputs": [],
   "source": [
    "#-------------------------------------------------------------------------#\n",
    "# Record cross validation score of SVC model\n",
    "Support_Vector_Classifier = Cross_validate_model(SVC(), X, Y)"
   ]
  },
  {
   "cell_type": "code",
   "execution_count": 68,
   "metadata": {},
   "outputs": [
    {
     "data": {
      "image/png": "[encoded data removed]",
      "text/plain": [
       "<Figure size 432x288 with 1 Axes>"
      ]
     },
     "metadata": {},
     "output_type": "display_data"
    },
    {
     "data": {
      "image/png": "[encoded data removed]",
      "text/plain": [
       "<Figure size 432x288 with 1 Axes>"
      ]
     },
     "metadata": {},
     "output_type": "display_data"
    },
    {
     "data": {
      "image/png": "[encoded data removed]",
      "text/plain": [
       "<Figure size 432x288 with 1 Axes>"
      ]
     },
     "metadata": {},
     "output_type": "display_data"
    },
    {
     "data": {
      "image/png": "[encoded data removed]",
      "text/plain": [
       "<Figure size 432x288 with 1 Axes>"
      ]
     },
     "metadata": {},
     "output_type": "display_data"
    },
    {
     "data": {
      "image/png": "[encoded data removed]",
      "text/plain": [
       "<Figure size 432x288 with 1 Axes>"
      ]
     },
     "metadata": {},
     "output_type": "display_data"
    },
    {
     "data": {
      "image/png": "[encoded data removed]",
      "text/plain": [
       "<Figure size 432x288 with 1 Axes>"
      ]
     },
     "metadata": {},
     "output_type": "display_data"
    }
   ],
   "source": [
    "#-------------------------------------------------------------------------#\n",
    "# Show box plot for cross validation score recorded above\n",
    "graphs_matrice([('LR', Logistic_regression), \n",
    "                ('RF', Random_forest), \n",
    "                ('XGB', XGBRandom_forest), \n",
    "                ('KNN', KNearest_Neighbour), \n",
    "                ('SVC', Support_Vector_Classifier)])"
   ]
  },
  {
   "cell_type": "markdown",
   "metadata": {},
   "source": [
    "# Save best model"
   ]
  },
  {
   "cell_type": "code",
   "execution_count": 13,
   "metadata": {},
   "outputs": [],
   "source": [
    "#-------------------------------------------------------------------------#\n",
    "# Parameter \n",
    "#             X = Pandas series of one column of processed sentance (in str form) \n",
    "#             Y = Pandas series of one column of related category (in numeric form)\n",
    "#\n",
    "#\n",
    "# This function will create train and test data of processed data \n",
    "# train data will be used to model in which tf idf and top 8000 feature selection on the basis of chi will be trained\n",
    "# test data will be prediction of model trained on training data\n",
    "#\n",
    "#\n",
    "# Return \n",
    "#    X_train_P = pandas dataframe of top 8000 features from tf idf\n",
    "#     X_test_P = pandas dataframe of top 8000 features from tf idf\n",
    "#      y_train = pandas dataframe of category of respective data\n",
    "#       y_test = pandas dataframe of category of respective data\n",
    "#      \n",
    "#-------------------------------------------------------------------------#\n",
    "def processed_pandas(X, Y):\n",
    "    X_train, X_test, y_train, y_test = train_test_split(X, Y, test_size=0.20, random_state=11, stratify=Y)\n",
    "    X_train, X_test, y_train, y_test = X_train.reset_index(drop=True), X_test.reset_index(drop=True), y_train.reset_index(drop=True), y_test.reset_index(drop=True)\n",
    "\n",
    "    tfidf_vectorizer = TfidfVectorizer(lowercase=False, \n",
    "                                 preprocessor=None, \n",
    "                                 tokenizer=None,\n",
    "                                 ngram_range=(1,2),\n",
    "                                 binary=False)\n",
    "\n",
    "\n",
    "    pipeline = Pipeline([('tfidf', tfidf_vectorizer),\n",
    "                         ('feature_selection',  SelectKBest(chi2, k=8000))])\n",
    "\n",
    "    model = pipeline.fit(X_train, y_train)\n",
    "\n",
    "    all_features = model.named_steps['tfidf'].get_feature_names()\n",
    "    selected_feature_index = model.named_steps['feature_selection'].get_support(indices=True)\n",
    "\n",
    "    selected_feature_name = [all_features[i] for i in selected_feature_index]\n",
    "\n",
    "    X_train_P = pd.DataFrame(data = model.transform(X_train).toarray(),columns = selected_feature_name)\n",
    "    X_test_P  = pd.DataFrame(data = model.transform(X_test).toarray(), columns = selected_feature_name)\n",
    "    \n",
    "    return X_train_P, X_test_P, y_train, y_test"
   ]
  },
  {
   "cell_type": "code",
   "execution_count": 14,
   "metadata": {},
   "outputs": [],
   "source": [
    "#-------------------------------------------------------------------------#\n",
    "# Get processed train and test data from whole data\n",
    "X_train, X_test, y_train, y_test = processed_pandas(X, Y)"
   ]
  },
  {
   "cell_type": "code",
   "execution_count": 16,
   "metadata": {},
   "outputs": [
    {
     "name": "stdout",
     "output_type": "stream",
     "text": [
      "              precision    recall  f1-score   support\n",
      "\n",
      "           1       0.98      0.99      0.99      1239\n",
      "           2       1.00      0.99      1.00       706\n",
      "           3       1.00      0.99      0.99       245\n",
      "           4       0.98      0.97      0.97       220\n",
      "           5       0.96      0.99      0.97       202\n",
      "           6       0.93      0.98      0.96       186\n",
      "           7       0.95      0.95      0.95       142\n",
      "           8       0.96      0.96      0.96       140\n",
      "           9       0.94      0.97      0.95       129\n",
      "          10       0.86      0.93      0.90       116\n",
      "          11       1.00      0.98      0.99       106\n",
      "          12       0.90      0.84      0.87        97\n",
      "          13       1.00      0.95      0.97        78\n",
      "          14       0.86      0.94      0.90        66\n",
      "          15       0.96      0.73      0.83        63\n",
      "          16       0.98      0.87      0.92        53\n",
      "          17       0.95      0.97      0.96        36\n",
      "          18       0.97      0.91      0.94        33\n",
      "          19       1.00      0.94      0.97        17\n",
      "          20       0.92      0.75      0.83        16\n",
      "\n",
      "    accuracy                           0.97      3890\n",
      "   macro avg       0.95      0.93      0.94      3890\n",
      "weighted avg       0.97      0.97      0.97      3890\n",
      "\n",
      "MCC :  0.9659719400760378\n",
      "[[1229    1    0    0    0    0    0    0    0    3    0    6    0    0\n",
      "     0    0    0    0    0    0]\n",
      " [   0  702    0    0    0    0    4    0    0    0    0    0    0    0\n",
      "     0    0    0    0    0    0]\n",
      " [   1    0  242    0    0    0    0    0    0    2    0    0    0    0\n",
      "     0    0    0    0    0    0]\n",
      " [   0    0    0  213    3    0    0    0    0    4    0    0    0    0\n",
      "     0    0    0    0    0    0]\n",
      " [   0    0    0    0  200    0    0    1    0    1    0    0    0    0\n",
      "     0    0    0    0    0    0]\n",
      " [   0    0    0    0    0  183    0    0    1    2    0    0    0    0\n",
      "     0    0    0    0    0    0]\n",
      " [   3    0    0    0    1    1  135    0    0    1    0    0    0    1\n",
      "     0    0    0    0    0    0]\n",
      " [   1    0    0    0    1    0    0  135    0    0    0    3    0    0\n",
      "     0    0    0    0    0    0]\n",
      " [   0    0    0    0    0    1    0    1  125    1    0    0    0    0\n",
      "     0    0    1    0    0    0]\n",
      " [   2    0    0    3    1    0    0    0    0  108    0    0    0    0\n",
      "     0    1    1    0    0    0]\n",
      " [   2    0    0    0    0    0    0    0    0    0  104    0    0    0\n",
      "     0    0    0    0    0    0]\n",
      " [   4    0    0    0    0    4    1    4    2    0    0   81    0    0\n",
      "     0    0    0    1    0    0]\n",
      " [   0    0    0    0    1    2    0    0    0    0    0    0   74    0\n",
      "     0    0    0    0    0    1]\n",
      " [   0    0    0    0    1    0    0    0    0    1    0    0    0   62\n",
      "     2    0    0    0    0    0]\n",
      " [   1    0    0    0    0    5    0    0    2    0    0    0    0    9\n",
      "    46    0    0    0    0    0]\n",
      " [   4    1    0    0    0    0    0    0    1    1    0    0    0    0\n",
      "     0   46    0    0    0    0]\n",
      " [   0    0    0    0    0    0    0    0    0    1    0    0    0    0\n",
      "     0    0   35    0    0    0]\n",
      " [   0    0    0    0    0    0    2    0    1    0    0    0    0    0\n",
      "     0    0    0   30    0    0]\n",
      " [   0    0    0    1    0    0    0    0    0    0    0    0    0    0\n",
      "     0    0    0    0   16    0]\n",
      " [   1    0    0    0    1    1    0    0    1    0    0    0    0    0\n",
      "     0    0    0    0    0   12]]\n"
     ]
    }
   ],
   "source": [
    "#-------------------------------------------------------------------------#\n",
    "# Train and analysis scores of SVC model \n",
    "model = SVC()\n",
    "model.fit(X_train, y_train)\n",
    "y_pred = model.predict(X_test)\n",
    "print(classification_report(y_test, y_pred))\n",
    "print(\"MCC : \",matthews_corrcoef(y_test, y_pred))\n",
    "print(confusion_matrix(y_test, y_pred))"
   ]
  },
  {
   "cell_type": "code",
   "execution_count": 17,
   "metadata": {},
   "outputs": [
    {
     "data": {
      "text/plain": [
       "['SVC_model.sav']"
      ]
     },
     "execution_count": 17,
     "metadata": {},
     "output_type": "execute_result"
    }
   ],
   "source": [
    "#-------------------------------------------------------------------------#\n",
    "# Save or load SVC model\n",
    "\n",
    "SVC_model_name = 'SVC_model.sav'\n",
    "# joblib.dump(model, SVC_model_name)\n",
    "SVC_model = joblib.load(SVC_model_name)"
   ]
  },
  {
   "cell_type": "code",
   "execution_count": 15,
   "metadata": {
    "scrolled": false
   },
   "outputs": [
    {
     "name": "stdout",
     "output_type": "stream",
     "text": [
      "              precision    recall  f1-score   support\n",
      "\n",
      "           1       0.97      1.00      0.98      1239\n",
      "           2       1.00      0.99      0.99       706\n",
      "           3       0.99      0.95      0.97       245\n",
      "           4       0.96      0.99      0.97       220\n",
      "           5       0.93      0.97      0.95       202\n",
      "           6       0.94      0.99      0.96       186\n",
      "           7       0.99      0.96      0.97       142\n",
      "           8       0.94      0.95      0.95       140\n",
      "           9       0.91      0.94      0.92       129\n",
      "          10       0.79      0.91      0.85       116\n",
      "          11       1.00      0.99      1.00       106\n",
      "          12       0.97      0.68      0.80        97\n",
      "          13       1.00      0.88      0.94        78\n",
      "          14       0.88      0.85      0.86        66\n",
      "          15       0.91      0.76      0.83        63\n",
      "          16       0.98      0.75      0.85        53\n",
      "          17       0.83      0.94      0.88        36\n",
      "          18       0.97      0.94      0.95        33\n",
      "          19       1.00      0.71      0.83        17\n",
      "          20       1.00      0.56      0.72        16\n",
      "\n",
      "    accuracy                           0.96      3890\n",
      "   macro avg       0.95      0.89      0.91      3890\n",
      "weighted avg       0.96      0.96      0.96      3890\n",
      "\n",
      "MCC :  0.9528710369148863\n",
      "[[1239    0    0    0    0    0    0    0    0    0    0    0    0    0\n",
      "     0    0    0    0    0    0]\n",
      " [   0  701    1    0    0    1    0    0    0    3    0    0    0    0\n",
      "     0    0    0    0    0    0]\n",
      " [   5    0  233    1    0    0    0    0    0    6    0    0    0    0\n",
      "     0    0    0    0    0    0]\n",
      " [   0    0    0  217    1    0    0    0    0    2    0    0    0    0\n",
      "     0    0    0    0    0    0]\n",
      " [   0    1    0    3  195    2    0    0    1    0    0    0    0    0\n",
      "     0    0    0    0    0    0]\n",
      " [   0    0    0    0    0  184    0    0    2    0    0    0    0    0\n",
      "     0    0    0    0    0    0]\n",
      " [   2    0    0    2    1    0  136    0    0    0    0    0    0    0\n",
      "     0    0    1    0    0    0]\n",
      " [   6    0    0    0    0    0    0  133    0    0    0    1    0    0\n",
      "     0    0    0    0    0    0]\n",
      " [   0    0    0    0    1    2    0    1  121    1    0    0    0    0\n",
      "     0    0    2    1    0    0]\n",
      " [   1    1    0    1    1    0    0    0    2  106    0    1    0    0\n",
      "     0    0    3    0    0    0]\n",
      " [   0    0    0    0    0    0    0    0    0    0  105    0    0    0\n",
      "     0    1    0    0    0    0]\n",
      " [  19    0    0    0    1    0    1    7    2    1    0   66    0    0\n",
      "     0    0    0    0    0    0]\n",
      " [   0    0    0    0    0    6    0    0    1    2    0    0   69    0\n",
      "     0    0    0    0    0    0]\n",
      " [   1    1    0    0    1    0    0    0    2    0    0    0    0   56\n",
      "     5    0    0    0    0    0]\n",
      " [   1    0    0    1    2    0    0    0    0    2    0    0    0    8\n",
      "    48    0    1    0    0    0]\n",
      " [   4    0    2    0    1    0    0    0    0    6    0    0    0    0\n",
      "     0   40    0    0    0    0]\n",
      " [   0    0    0    0    2    0    0    0    0    0    0    0    0    0\n",
      "     0    0   34    0    0    0]\n",
      " [   1    0    0    0    1    0    0    0    0    0    0    0    0    0\n",
      "     0    0    0   31    0    0]\n",
      " [   0    0    0    1    1    0    0    0    0    3    0    0    0    0\n",
      "     0    0    0    0   12    0]\n",
      " [   1    0    0    0    1    1    0    0    2    2    0    0    0    0\n",
      "     0    0    0    0    0    9]]\n"
     ]
    }
   ],
   "source": [
    "#-------------------------------------------------------------------------#\n",
    "# Train and analysis scores of XGB model \n",
    "\n",
    "model = XGBClassifier()\n",
    "model.fit(X_train, y_train)\n",
    "y_pred = model.predict(X_test)\n",
    "print(classification_report(y_test, y_pred))\n",
    "print(\"MCC : \",matthews_corrcoef(y_test, y_pred))\n",
    "print(confusion_matrix(y_test, y_pred))"
   ]
  },
  {
   "cell_type": "code",
   "execution_count": 16,
   "metadata": {},
   "outputs": [
    {
     "data": {
      "text/plain": [
       "['XGB_model.sav']"
      ]
     },
     "execution_count": 16,
     "metadata": {},
     "output_type": "execute_result"
    }
   ],
   "source": [
    "#-------------------------------------------------------------------------#\n",
    "# Save or load XGB model\n",
    "\n",
    "XGB_model_name = 'XGB_model.sav'\n",
    "# joblib.dump(model, XGB_model_name)\n",
    "XGB_model = joblib.load(XGB_model_name)"
   ]
  },
  {
   "cell_type": "markdown",
   "metadata": {},
   "source": [
    "# Extra code"
   ]
  },
  {
   "cell_type": "code",
   "execution_count": null,
   "metadata": {
    "collapsed": true
   },
   "outputs": [
    {
     "name": "stdout",
     "output_type": "stream",
     "text": [
      "Fitting 5 folds for each of 16 candidates, totalling 80 fits\n",
      "[CV] C=0.1, gamma=1, kernel=rbf ......................................\n"
     ]
    },
    {
     "name": "stderr",
     "output_type": "stream",
     "text": [
      "[Parallel(n_jobs=1)]: Using backend SequentialBackend with 1 concurrent workers.\n"
     ]
    },
    {
     "name": "stdout",
     "output_type": "stream",
     "text": [
      "[CV] .......... C=0.1, gamma=1, kernel=rbf, score=0.838, total=25.4min\n",
      "[CV] C=0.1, gamma=1, kernel=rbf ......................................\n"
     ]
    },
    {
     "name": "stderr",
     "output_type": "stream",
     "text": [
      "[Parallel(n_jobs=1)]: Done   1 out of   1 | elapsed: 25.4min remaining:    0.0s\n"
     ]
    },
    {
     "name": "stdout",
     "output_type": "stream",
     "text": [
      "[CV] .......... C=0.1, gamma=1, kernel=rbf, score=0.840, total=83.5min\n",
      "[CV] C=0.1, gamma=1, kernel=rbf ......................................\n"
     ]
    },
    {
     "name": "stderr",
     "output_type": "stream",
     "text": [
      "[Parallel(n_jobs=1)]: Done   2 out of   2 | elapsed: 108.9min remaining:    0.0s\n"
     ]
    },
    {
     "name": "stdout",
     "output_type": "stream",
     "text": [
      "[CV] .......... C=0.1, gamma=1, kernel=rbf, score=0.837, total=25.4min\n",
      "[CV] C=0.1, gamma=1, kernel=rbf ......................................\n"
     ]
    }
   ],
   "source": [
    "# grid search was applied on SVC but due to limited CPU power process was run for more than 2 hours still no done\n",
    "\n",
    "param_grid = {'C': [0.1, 1, 10, 100], \n",
    "              'gamma': [1, 0.1, 0.01, 0.001],\n",
    "              'kernel': ['rbf']} \n",
    "  \n",
    "grid = GridSearchCV(SVC(), param_grid, refit = True, verbose = 3, scoring = make_scorer(matthews_corrcoef))\n",
    "  \n",
    "grid.fit(X_train, y_train)"
   ]
  },
  {
   "cell_type": "code",
   "execution_count": 16,
   "metadata": {},
   "outputs": [
    {
     "name": "stderr",
     "output_type": "stream",
     "text": [
      "E:\\Anaconda\\envs\\groel\\lib\\site-packages\\sklearn\\utils\\deprecation.py:143: FutureWarning: The sklearn.utils.testing module is  deprecated in version 0.22 and will be removed in version 0.24. The corresponding classes / functions should instead be imported from sklearn.utils. Anything that cannot be imported from sklearn.utils is now part of the private API.\n",
      "  warnings.warn(message, FutureWarning)\n"
     ]
    }
   ],
   "source": [
    "# similarly to grid search above process was runned for more than 3 hours still not result founded\n",
    "\n",
    "from lazypredict.Supervised import LazyClassifier"
   ]
  },
  {
   "cell_type": "code",
   "execution_count": null,
   "metadata": {},
   "outputs": [
    {
     "name": "stderr",
     "output_type": "stream",
     "text": [
      " 10%|████████▌                                                                          | 3/29 [04:14<29:34, 68.25s/it]"
     ]
    }
   ],
   "source": [
    "clf = LazyClassifier(verbose=0, ignore_warnings=True, custom_metric=None, predictions=True)\n",
    "models, predictions = clf.fit(X_train, X_test, y_train, y_test)"
   ]
  }
 ],
 "metadata": {
  "kernelspec": {
   "display_name": "groel",
   "language": "python",
   "name": "groel"
  },
  "language_info": {
   "codemirror_mode": {
    "name": "ipython",
    "version": 3
   },
   "file_extension": ".py",
   "mimetype": "text/x-python",
   "name": "python",
   "nbconvert_exporter": "python",
   "pygments_lexer": "ipython3",
   "version": "3.7.9"
  }
 },
 "nbformat": 4,
 "nbformat_minor": 4
}
